{
 "cells": [
  {
   "cell_type": "code",
   "execution_count": null,
   "metadata": {
    "pycharm": {
     "is_executing": false
    }
   },
   "outputs": [],
   "source": [
    "import numpy as np\n",
    "import pandas as pd\n",
    "import datetime \n",
    "from itertools import cycle\n",
    "import matplotlib as mpl\n",
    "import matplotlib.pyplot as plt\n",
    "import matplotlib.ticker as ticker"
   ]
  },
  {
   "cell_type": "code",
   "execution_count": null,
   "metadata": {},
   "outputs": [],
   "source": [
    "linestyle_cycler = cycle(['-','--',':','-.'])\n",
    "palette = 'gist_stern'\n",
    "plt.set_cmap(palette)\n",
    "cmap = plt.get_cmap(palette)\n",
    "\n",
    "def discrete_cmap(N, base_cmap=None):\n",
    "    \"\"\"Create an N-bin discrete colormap from the specified input map\"\"\"\n",
    "\n",
    "    # Note that if base_cmap is a string or None, you can simply do\n",
    "    #    return plt.cm.get_cmap(base_cmap, N)\n",
    "    # The following works for string, None, or a colormap instance:\n",
    "\n",
    "    base = plt.cm.get_cmap(base_cmap)\n",
    "    color_list = base(np.linspace(0, 1, N))\n",
    "    cmap_name = base.name + str(N)\n",
    "    return base.from_list(cmap_name, color_list, N)"
   ]
  },
  {
   "cell_type": "markdown",
   "metadata": {
    "pycharm": {
     "name": "#%% md\n"
    }
   },
   "source": [
    "# Electricity demand\n"
   ]
  },
  {
   "cell_type": "code",
   "execution_count": null,
   "metadata": {
    "pycharm": {
     "is_executing": false,
     "name": "#%% \n"
    }
   },
   "outputs": [],
   "source": [
    "file_name = '../data/hourly_20140102_20191101.csv'\n",
    "dateparse = lambda x: pd.datetime.strptime(x, '%Y-%m-%dT%H:%M:%S.000%z') if 'T' in x else pd.datetime.strptime(x, '%Y-%m-%d %H:%M:%S%z')\n",
    "df = pd.read_csv(file_name, index_col=2, parse_dates=['datetime'], date_parser=dateparse)\n",
    "df = df['value']/1000\n",
    "df.index = pd.to_datetime(df.index, utc=True)\n",
    "df.index = df.index.map(lambda x: pd.to_datetime(x).tz_convert('Europe/Berlin'))\n",
    "df"
   ]
  },
  {
   "cell_type": "code",
   "execution_count": null,
   "metadata": {
    "pycharm": {
     "is_executing": false,
     "name": "#%% \n"
    }
   },
   "outputs": [],
   "source": [
    "fig, ax = plt.subplots(1,1, figsize=(100,20))\n",
    "ax.plot(df, color=cmap(0))"
   ]
  },
  {
   "cell_type": "code",
   "execution_count": null,
   "metadata": {
    "pycharm": {
     "is_executing": false,
     "name": "#%% \n"
    },
    "scrolled": false
   },
   "outputs": [],
   "source": [
    "cmap_aux = discrete_cmap(6+1, palette) \n",
    "fig, ax = plt.subplots(1,1, figsize=(12,4))\n",
    "for y in range(2014,2020):\n",
    "    init_date = datetime.datetime(year=y,month=1,day=1, hour=0, minute=0 ,tzinfo=df.index[0].tzinfo)\n",
    "    end_date = datetime.datetime(year=y,month=12,day=31, hour=23, minute=59 ,tzinfo=df.index[0].tzinfo)\n",
    "    s_aux = df.loc[init_date:end_date]\n",
    "    ax.plot(s_aux, alpha=1., label=str(y), color=cmap_aux(y-2014), linewidth=0.01)\n",
    "ax.set_ylabel('GW')\n",
    "ax.set_xticks(['2014', '2015', '2016', '2017', '2018', '2019', '2019-11-02'])\n",
    "fig.savefig('../files/images/ED-entire.eps', format='eps')"
   ]
  },
  {
   "cell_type": "code",
   "execution_count": null,
   "metadata": {},
   "outputs": [],
   "source": [
    "cmap_aux = discrete_cmap(6+1, palette) \n",
    "fig, ax = plt.subplots(1,1, figsize=(12,4))\n",
    "for y in [2016]:\n",
    "    init_date = datetime.datetime(year=y,month=1,day=1, hour=0, minute=0 ,tzinfo=df.index[0].tzinfo)\n",
    "    end_date = datetime.datetime(year=y,month=12,day=31, hour=23, minute=59 ,tzinfo=df.index[0].tzinfo)\n",
    "    s_aux = df.loc[init_date:end_date]\n",
    "    s_aux.index = s_aux.index.map(lambda x : x.strftime('%d %B'))\n",
    "    ax.plot(s_aux, alpha=1., label=str(y), color=cmap_aux(2), linewidth=1)\n",
    "ax.set_ylabel('GW')\n",
    "ax.set_xticks(['01 January', '01 February', '01 March', '01 April', '01 May', '01 June', '01 July', '01 August', '01 September', '01 October', '01 November', '01 December'])\n",
    "ax.set_xticklabels(['January', 'Feb.', 'March', 'April', 'May', 'June', 'July', 'August', 'Sep.', 'October', 'Nov.', 'December'])\n",
    "fig.savefig('../files/images/ED-yearly.eps', format='eps')"
   ]
  },
  {
   "cell_type": "code",
   "execution_count": null,
   "metadata": {
    "scrolled": true
   },
   "outputs": [],
   "source": [
    "#(y,M,d,h,m)\n",
    "init_dates= [(2018,1,1,0,0),  (2018,4,2+7,0,0),  (2018,7,2+7*2,0,0),  (2018,10,1+7*3,0,0),]\n",
    "linestyle_cycler = cycle(['-','--',':','-.'])\n",
    "cmap_aux = discrete_cmap(4+7, palette)\n",
    "cmap_aux = [discrete_cmap(4+4, palette)(0), discrete_cmap(4+5, palette)(1), discrete_cmap(4+5, palette)(3),  discrete_cmap(4+5, palette)(6) ]\n",
    "fig, ax = plt.subplots(1,1, figsize=(12,4))\n",
    "for i, (y,M,d,h,m) in enumerate(init_dates):\n",
    "    init_date = datetime.datetime(year=y,month=M,day=d, hour=0, minute=0 ,tzinfo=df.index[0].tzinfo)\n",
    "    end_date = datetime.datetime(year=y,month=M,day=d+6, hour=22, minute=59 ,tzinfo=df.index[0].tzinfo)\n",
    "    s_aux = df.loc[init_date:end_date]\n",
    "    s_aux.index = s_aux.index.map(lambda x : x.strftime('%a %H:%M'))\n",
    "    ax.plot(s_aux, alpha=1, label=(init_date.strftime('%-d -') + end_date.strftime('%-d %b')), color=cmap_aux[i],linewidth=1.7, linestyle=next(linestyle_cycler))\n",
    "    ax.xaxis.set_major_locator(ticker.MultipleLocator((len(s_aux)+1)/7))\n",
    "ax.set_ylabel('GW')\n",
    "ax.set_xticks(['Mon 00:00', 'Tue 00:00', 'Wed 00:00', 'Thu 00:00', 'Fri 00:00','Sat 00:00', 'Sun 00:00', 'Sun 23:50'])\n",
    "ax.legend()\n",
    "fig.savefig('../files/images/ED-weekly.eps', format='eps')"
   ]
  },
  {
   "cell_type": "code",
   "execution_count": null,
   "metadata": {
    "pycharm": {
     "name": "#%%\n"
    },
    "scrolled": true
   },
   "outputs": [],
   "source": [
    "cmap_aux = discrete_cmap(7+1, palette)\n",
    "linestyle_cycler = cycle(['-','--',':','-.'])\n",
    "fig, ax = plt.subplots(1,1, figsize=(12,4))\n",
    "for i in range(7):\n",
    "    init_date = datetime.datetime(year=2019,month=2,day=i+4, hour=0, minute=0 ,tzinfo=df.index[0].tzinfo)\n",
    "    end_date = datetime.datetime(year=2019,month=2,day=i+4, hour=23, minute=59 ,tzinfo=df.index[0].tzinfo)\n",
    "    s_aux = df.loc[init_date:end_date]\n",
    "    s_aux.index = s_aux.index.map(lambda x : x.strftime('%H:%M'))\n",
    "    ax.plot(s_aux, alpha=1, label=(init_date.strftime('%a')), linestyle=next(linestyle_cycler), color=cmap_aux(i), linewidth=2)    \n",
    "    ax.xaxis.set_major_locator(ticker.MultipleLocator(len(s_aux)/12))\n",
    "ax.set_xticks(['00:00', '02:00', '04:00', '06:00', '08:00', '10:00', '12:00', '14:00', '16:00',\n",
    "              '18:00','20:00','22:00','24:00'])\n",
    "ax.set_ylabel('GW')\n",
    "ax.legend()\n",
    "fig.savefig('../files/images/ED-daily_4-2-2019_11-2-2019.eps', format='eps')\n"
   ]
  },
  {
   "cell_type": "markdown",
   "metadata": {
    "pycharm": {
     "name": "#%% md\n"
    }
   },
   "source": [
    "# Electric vehicles"
   ]
  },
  {
   "cell_type": "code",
   "execution_count": null,
   "metadata": {
    "pycharm": {
     "is_executing": false,
     "name": "#%%\n"
    }
   },
   "outputs": [],
   "source": [
    "file_name = '../data/CECOVEL.csv'\n",
    "dateparse = lambda x: pd.datetime.strptime(x, '%Y-%m-%dT%H:%M')\n",
    "df = pd.read_csv(file_name, index_col=1, parse_dates=['timestamp'], date_parser=dateparse)\n",
    "init_date = datetime.datetime(year=2015,month=3,day=2, hour=0, minute=0 ,tzinfo=df.index[0].tzinfo)\n",
    "end_date = datetime.datetime(year=2016,month=5,day=31, hour=23, minute=59 ,tzinfo=df.index[0].tzinfo)\n",
    "df = df['value'].loc[init_date:end_date]\n",
    "df"
   ]
  },
  {
   "cell_type": "code",
   "execution_count": null,
   "metadata": {},
   "outputs": [],
   "source": [
    "cmap_aux = discrete_cmap(6+1, palette) \n",
    "fig, ax = plt.subplots(1,1, figsize=(12,4))\n",
    "for y in range(2015,2017):\n",
    "    init_date = datetime.datetime(year=y,month=1,day=1, hour=0, minute=0 ,tzinfo=df.index[0].tzinfo)\n",
    "    end_date = datetime.datetime(year=y,month=12,day=31, hour=23, minute=59 ,tzinfo=df.index[0].tzinfo)\n",
    "    s_aux = df.loc[init_date:end_date]\n",
    "    ax.plot(s_aux, alpha=1., label=str(y), color=cmap_aux(y-2014), linewidth=0.6)\n",
    "ax.set_ylabel('kW')\n",
    "ax.set_xticks([ '2015-03-02', '2016', '2016-05-31'])\n",
    "fig.savefig('../files/images/EV-entire.eps', format='eps')"
   ]
  },
  {
   "cell_type": "code",
   "execution_count": null,
   "metadata": {},
   "outputs": [],
   "source": [
    "#(y,M,d,h,m)\n",
    "init_dates= [(2015,3,2,0,0), (2015,9,7,0,0), (2016,3,7,0,0), (2016,5,2,0,0)]\n",
    "linestyle_cycler = cycle(['-','--',':','-.'])\n",
    "cmap_aux = discrete_cmap(4+7, palette)\n",
    "cmap_aux = [discrete_cmap(4+4, palette)(0), discrete_cmap(4+5, palette)(1), discrete_cmap(4+5, palette)(3),  discrete_cmap(4+5, palette)(6) ]\n",
    "fig, ax = plt.subplots(1,1, figsize=(12,4))\n",
    "for i, (y,M,d,h,m) in enumerate(init_dates):\n",
    "    init_date = datetime.datetime(year=y,month=M,day=d, hour=0, minute=0 ,tzinfo=df.index[0].tzinfo)\n",
    "    end_date = datetime.datetime(year=y,month=M,day=d+6, hour=22, minute=59 ,tzinfo=df.index[0].tzinfo)\n",
    "    s_aux = df.loc[init_date:end_date]\n",
    "    s_aux.index = s_aux.index.map(lambda x : x.strftime('%a %H:%M'))\n",
    "    ax.plot(s_aux, alpha=1, label=(init_date.strftime('%-d -') + end_date.strftime('%-d %b %Y')), color=cmap_aux[i],linewidth=1.7, linestyle=next(linestyle_cycler))\n",
    "    ax.xaxis.set_major_locator(ticker.MultipleLocator((len(s_aux)+1)/7))\n",
    "ax.set_ylabel('kW')\n",
    "ax.set_xticks(['Mon 00:00', 'Tue 00:00', 'Wed 00:00', 'Thu 00:00', 'Fri 00:00','Sat 00:00', 'Sun 00:00', 'Sun 23:50'])\n",
    "ax.legend()\n",
    "fig.savefig('../files/images/EV-weekly.eps', format='eps')"
   ]
  },
  {
   "cell_type": "code",
   "execution_count": null,
   "metadata": {},
   "outputs": [],
   "source": [
    "cmap_aux = discrete_cmap(7+1, palette)\n",
    "linestyle_cycler = cycle(['-','--',':','-.'])\n",
    "fig, ax = plt.subplots(1,1, figsize=(12,4))\n",
    "for i in range(7):\n",
    "    init_date = datetime.datetime(year=2016,month=2,day=i+1, hour=0, minute=0 ,tzinfo=df.index[0].tzinfo)\n",
    "    end_date = datetime.datetime(year=2016,month=2,day=i+1, hour=23, minute=59 ,tzinfo=df.index[0].tzinfo)\n",
    "    s_aux = df.loc[init_date:end_date]\n",
    "    s_aux.index = s_aux.index.map(lambda x : x.strftime('%H:%M'))\n",
    "    ax.plot(s_aux, alpha=1, label=(init_date.strftime('%a')), linestyle=next(linestyle_cycler), color=cmap_aux(i), linewidth=2)    \n",
    "    ax.xaxis.set_major_locator(ticker.MultipleLocator(len(s_aux)/12))\n",
    "\n",
    "ax.set_xticks(['0{}:00'.format(str(h)) if h<10 else  '{}:00'.format(str(h)) for h in range(25)])\n",
    "ax.set_xticklabels([('0{}:00'.format(str(h)) if h<10 else '{}:00'.format(str(h))) if h%2==0 else '' for h in range(25)])\n",
    "ax.set_ylabel('kW')\n",
    "ax.legend()\n",
    "fig.savefig('../files/images/EV-daily_1-2-2016_7-2-2016.eps', format='eps')"
   ]
  },
  {
   "cell_type": "code",
   "execution_count": null,
   "metadata": {},
   "outputs": [],
   "source": [
    "fig, ax = plt.subplots(1,1, figsize=(45,4))\n",
    "init_date = datetime.datetime(year=2016,month=2,day=1, hour=0, minute=0 ,tzinfo=df.index[0].tzinfo)\n",
    "end_date = datetime.datetime(year=2016,month=2,day=1, hour=23, minute=59 ,tzinfo=df.index[0].tzinfo)\n",
    "s_aux = df.loc[init_date:end_date].values\n",
    "ax.plot(s_aux[:20], 'ko-', linewidth=4, markersize=20)\n",
    "ax.axis('off')\n",
    "fig.tight_layout()"
   ]
  }
 ],
 "metadata": {
  "kernelspec": {
   "display_name": "Python 3",
   "language": "python",
   "name": "python3"
  },
  "language_info": {
   "codemirror_mode": {
    "name": "ipython",
    "version": 3
   },
   "file_extension": ".py",
   "mimetype": "text/x-python",
   "name": "python",
   "nbconvert_exporter": "python",
   "pygments_lexer": "ipython3",
   "version": "3.8.5"
  },
  "pycharm": {
   "stem_cell": {
    "cell_type": "raw",
    "metadata": {
     "collapsed": false
    },
    "source": []
   }
  }
 },
 "nbformat": 4,
 "nbformat_minor": 1
}
