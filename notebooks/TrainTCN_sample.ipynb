{
 "cells": [
  {
   "cell_type": "code",
   "execution_count": 1,
   "metadata": {
    "pycharm": {
     "is_executing": false
    }
   },
   "outputs": [],
   "source": [
    "import numpy as np\n",
    "import tensorflow as tf\n",
    "from tcn import TCN\n",
    "import os\n",
    "\n",
    "os.chdir(\"../src/\")\n",
    "from models import tcn\n",
    "from utils import auxiliary_plots, metrics\n",
    "from preprocessing import normalization, data_generation\n",
    "\n",
    "SEED = 1\n",
    "tf.random.set_seed(SEED)\n",
    "np.random.seed(SEED)\n",
    "\n",
    "os.chdir(\"../notebooks/\")"
   ]
  },
  {
   "cell_type": "code",
   "execution_count": 2,
   "metadata": {
    "pycharm": {
     "is_executing": false
    }
   },
   "outputs": [],
   "source": [
    "TRAIN_FILE_NAME = '../data/hourly_20140102_20191101_train.csv'\n",
    "TEST_FILE_NAME = '../data/hourly_20140102_20191101_test.csv'\n",
    "\n",
    "FORECAST_HORIZON = 24\n",
    "PAST_HISTORY = 192\n",
    "BATCH_SIZE = 256\n",
    "BUFFER_SIZE = 10000\n",
    "EPOCHS = 25\n",
    "METRICS = ['mape']\n",
    "\n",
    "TCN_PARAMS = {\n",
    "    'nb_filters': 128,\n",
    "    'kernel_size': 3,\n",
    "    'nb_stacks': 1,\n",
    "    'dilations': [1, 2, 4, 8, 16, 32, 64],\n",
    "    'dropout_rate': 0,\n",
    "}\n"
   ]
  },
  {
   "cell_type": "markdown",
   "metadata": {},
   "source": [
    "## Read data  "
   ]
  },
  {
   "cell_type": "code",
   "execution_count": 3,
   "metadata": {
    "pycharm": {
     "is_executing": false
    }
   },
   "outputs": [],
   "source": [
    "# Read train file\n",
    "with open(TRAIN_FILE_NAME, 'r') as datafile:\n",
    "    ts_train = datafile.readlines()[1:]  # skip the header\n",
    "    ts_train = np.asarray([np.asarray(l.rstrip().split(',')[0], dtype=np.float32) for l in ts_train])\n",
    "    ts_train = np.reshape(ts_train, (ts_train.shape[0],))\n",
    "\n",
    "# Read test data file\n",
    "with open(TEST_FILE_NAME, 'r') as datafile:\n",
    "    ts_test = datafile.readlines()[1:]  # skip the header\n",
    "    ts_test = np.asarray([np.asarray(l.rstrip().split(',')[0], dtype=np.float32) for l in ts_test])\n",
    "    ts_test = np.reshape(ts_test, (ts_test.shape[0],))\n",
    "    \n",
    "# Train/validation split\n",
    "TRAIN_SPLIT = int(ts_train.shape[0] * 0.8)\n",
    "\n",
    "# Normalize training data\n",
    "norm_params = normalization.get_normalization_params(ts_train[:TRAIN_SPLIT])\n",
    "ts_train = normalization.normalize(ts_train, norm_params)\n",
    "# Normalize test data with train params\n",
    "ts_test = normalization.normalize(ts_test, norm_params)\n",
    "\n",
    "# Get x and y for training and validation\n",
    "x_train, y_train = data_generation.univariate_data(ts_train, 0, TRAIN_SPLIT, PAST_HISTORY, FORECAST_HORIZON)\n",
    "x_val, y_val = data_generation.univariate_data(ts_train, TRAIN_SPLIT - PAST_HISTORY, ts_train.shape[0],\n",
    "                                                   PAST_HISTORY, FORECAST_HORIZON)\n",
    "\n",
    "# Get x and y for test data\n",
    "x_test, y_test = data_generation.univariate_data(ts_test, 0, ts_test.shape[0], PAST_HISTORY, FORECAST_HORIZON)\n",
    "\n",
    "# Convert numpy data to tensorflow dataset\n",
    "train_data = tf.data.Dataset.from_tensor_slices((x_train, y_train)).cache().shuffle(BUFFER_SIZE).batch(BATCH_SIZE).repeat()\n",
    "val_data = tf.data.Dataset.from_tensor_slices((x_val, y_val)).batch(BATCH_SIZE).repeat()\n",
    "test_data = tf.data.Dataset.from_tensor_slices((x_test, y_test)).batch(BATCH_SIZE)"
   ]
  },
  {
   "cell_type": "markdown",
   "metadata": {},
   "source": [
    "## TCN: Create and train model"
   ]
  },
  {
   "cell_type": "code",
   "execution_count": 4,
   "metadata": {
    "pycharm": {
     "is_executing": false
    }
   },
   "outputs": [
    {
     "name": "stdout",
     "output_type": "stream",
     "text": [
      "Model: \"model\"\n",
      "_________________________________________________________________\n",
      "Layer (type)                 Output Shape              Param #   \n",
      "=================================================================\n",
      "input_1 (InputLayer)         [(None, 192, 1)]          0         \n",
      "_________________________________________________________________\n",
      "tcn (TCN)                    (None, 128)               789248    \n",
      "_________________________________________________________________\n",
      "flatten (Flatten)            (None, 128)               0         \n",
      "_________________________________________________________________\n",
      "dense (Dense)                (None, 24)                3096      \n",
      "_________________________________________________________________\n",
      "dense_1 (Dense)              (None, 24)                600       \n",
      "=================================================================\n",
      "Total params: 792,944\n",
      "Trainable params: 792,944\n",
      "Non-trainable params: 0\n",
      "_________________________________________________________________\n"
     ]
    }
   ],
   "source": [
    "model = tcn(x_train.shape, FORECAST_HORIZON, 'adam', 'mae', \n",
    "            nb_filters=TCN_PARAMS['nb_filters'],\n",
    "            kernel_size=TCN_PARAMS['kernel_size'],\n",
    "            nb_stacks= TCN_PARAMS['nb_stacks'],\n",
    "            dilations=TCN_PARAMS['dilations'],\n",
    "            dropout_rate=TCN_PARAMS['dropout_rate'])\n",
    "model.summary()"
   ]
  },
  {
   "cell_type": "code",
   "execution_count": 5,
   "metadata": {
    "pycharm": {
     "is_executing": false
    }
   },
   "outputs": [
    {
     "name": "stdout",
     "output_type": "stream",
     "text": [
      "Train for 766 steps, validate for 766 steps\n",
      "Epoch 1/25\n",
      "765/766 [============================>.] - ETA: 0s - loss: 0.4140\n",
      "Epoch 00001: saving model to training_tcn/cp.ckpt\n",
      "766/766 [==============================] - 162s 211ms/step - loss: 0.4136 - val_loss: 0.1328\n",
      "Epoch 2/25\n",
      "765/766 [============================>.] - ETA: 0s - loss: 0.1107\n",
      "Epoch 00002: saving model to training_tcn/cp.ckpt\n",
      "766/766 [==============================] - 160s 209ms/step - loss: 0.1106 - val_loss: 0.1033\n",
      "Epoch 3/25\n",
      "765/766 [============================>.] - ETA: 0s - loss: 0.0935\n",
      "Epoch 00003: saving model to training_tcn/cp.ckpt\n",
      "766/766 [==============================] - 157s 205ms/step - loss: 0.0934 - val_loss: 0.0913\n",
      "Epoch 4/25\n",
      "765/766 [============================>.] - ETA: 0s - loss: 0.0844\n",
      "Epoch 00004: saving model to training_tcn/cp.ckpt\n",
      "766/766 [==============================] - 160s 209ms/step - loss: 0.0844 - val_loss: 0.0860\n",
      "Epoch 5/25\n",
      "765/766 [============================>.] - ETA: 0s - loss: 0.0774\n",
      "Epoch 00005: saving model to training_tcn/cp.ckpt\n",
      "766/766 [==============================] - 159s 208ms/step - loss: 0.0774 - val_loss: 0.0799\n",
      "Epoch 6/25\n",
      "765/766 [============================>.] - ETA: 0s - loss: 0.0726\n",
      "Epoch 00006: saving model to training_tcn/cp.ckpt\n",
      "766/766 [==============================] - 160s 209ms/step - loss: 0.0726 - val_loss: 0.0740\n",
      "Epoch 7/25\n",
      "765/766 [============================>.] - ETA: 0s - loss: 0.0687\n",
      "Epoch 00007: saving model to training_tcn/cp.ckpt\n",
      "766/766 [==============================] - 159s 207ms/step - loss: 0.0687 - val_loss: 0.0736\n",
      "Epoch 8/25\n",
      "765/766 [============================>.] - ETA: 0s - loss: 0.0661\n",
      "Epoch 00008: saving model to training_tcn/cp.ckpt\n",
      "766/766 [==============================] - 159s 208ms/step - loss: 0.0661 - val_loss: 0.0685\n",
      "Epoch 9/25\n",
      "765/766 [============================>.] - ETA: 0s - loss: 0.0634\n",
      "Epoch 00009: saving model to training_tcn/cp.ckpt\n",
      "766/766 [==============================] - 166s 216ms/step - loss: 0.0633 - val_loss: 0.0685\n",
      "Epoch 10/25\n",
      "765/766 [============================>.] - ETA: 0s - loss: 0.0614\n",
      "Epoch 00010: saving model to training_tcn/cp.ckpt\n",
      "766/766 [==============================] - 166s 217ms/step - loss: 0.0614 - val_loss: 0.0680\n",
      "Epoch 11/25\n",
      "765/766 [============================>.] - ETA: 0s - loss: 0.0598\n",
      "Epoch 00011: saving model to training_tcn/cp.ckpt\n",
      "766/766 [==============================] - 164s 214ms/step - loss: 0.0598 - val_loss: 0.0688\n",
      "Epoch 12/25\n",
      "765/766 [============================>.] - ETA: 0s - loss: 0.0581\n",
      "Epoch 00012: saving model to training_tcn/cp.ckpt\n",
      "766/766 [==============================] - 163s 213ms/step - loss: 0.0581 - val_loss: 0.0658\n",
      "Epoch 13/25\n",
      "765/766 [============================>.] - ETA: 0s - loss: 0.0564\n",
      "Epoch 00013: saving model to training_tcn/cp.ckpt\n",
      "766/766 [==============================] - 162s 211ms/step - loss: 0.0564 - val_loss: 0.0597\n",
      "Epoch 14/25\n",
      "765/766 [============================>.] - ETA: 0s - loss: 0.0554\n",
      "Epoch 00014: saving model to training_tcn/cp.ckpt\n",
      "766/766 [==============================] - 160s 209ms/step - loss: 0.0554 - val_loss: 0.0611\n",
      "Epoch 15/25\n",
      "765/766 [============================>.] - ETA: 0s - loss: 0.0543\n",
      "Epoch 00015: saving model to training_tcn/cp.ckpt\n",
      "766/766 [==============================] - 160s 209ms/step - loss: 0.0543 - val_loss: 0.0623\n",
      "Epoch 16/25\n",
      "765/766 [============================>.] - ETA: 0s - loss: 0.0532\n",
      "Epoch 00016: saving model to training_tcn/cp.ckpt\n",
      "766/766 [==============================] - 160s 209ms/step - loss: 0.0532 - val_loss: 0.0592\n",
      "Epoch 17/25\n",
      "765/766 [============================>.] - ETA: 0s - loss: 0.0523\n",
      "Epoch 00017: saving model to training_tcn/cp.ckpt\n",
      "766/766 [==============================] - 160s 209ms/step - loss: 0.0523 - val_loss: 0.0581\n",
      "Epoch 18/25\n",
      "765/766 [============================>.] - ETA: 0s - loss: 0.0518\n",
      "Epoch 00018: saving model to training_tcn/cp.ckpt\n",
      "766/766 [==============================] - 160s 208ms/step - loss: 0.0518 - val_loss: 0.0599\n",
      "Epoch 19/25\n",
      "765/766 [============================>.] - ETA: 0s - loss: 0.0508\n",
      "Epoch 00019: saving model to training_tcn/cp.ckpt\n",
      "766/766 [==============================] - 160s 208ms/step - loss: 0.0508 - val_loss: 0.0576\n",
      "Epoch 20/25\n",
      "765/766 [============================>.] - ETA: 0s - loss: 0.0501\n",
      "Epoch 00020: saving model to training_tcn/cp.ckpt\n",
      "766/766 [==============================] - 160s 208ms/step - loss: 0.0501 - val_loss: 0.0560\n",
      "Epoch 21/25\n",
      "765/766 [============================>.] - ETA: 0s - loss: 0.0496\n",
      "Epoch 00021: saving model to training_tcn/cp.ckpt\n",
      "766/766 [==============================] - 160s 208ms/step - loss: 0.0495 - val_loss: 0.0574\n",
      "Epoch 22/25\n",
      "765/766 [============================>.] - ETA: 0s - loss: 0.0487\n",
      "Epoch 00022: saving model to training_tcn/cp.ckpt\n",
      "766/766 [==============================] - 160s 208ms/step - loss: 0.0487 - val_loss: 0.0578\n",
      "Epoch 23/25\n",
      "765/766 [============================>.] - ETA: 0s - loss: 0.0481\n",
      "Epoch 00023: saving model to training_tcn/cp.ckpt\n",
      "766/766 [==============================] - 160s 208ms/step - loss: 0.0481 - val_loss: 0.0580\n",
      "Epoch 24/25\n",
      "765/766 [============================>.] - ETA: 0s - loss: 0.0477\n",
      "Epoch 00024: saving model to training_tcn/cp.ckpt\n",
      "766/766 [==============================] - 160s 209ms/step - loss: 0.0477 - val_loss: 0.0565\n",
      "Epoch 25/25\n",
      "765/766 [============================>.] - ETA: 0s - loss: 0.0471\n",
      "Epoch 00025: saving model to training_tcn/cp.ckpt\n",
      "766/766 [==============================] - 160s 208ms/step - loss: 0.0471 - val_loss: 0.0580\n"
     ]
    },
    {
     "data": {
      "image/png": "[encoded data removed]",
      "text/plain": [
       "<Figure size 432x288 with 1 Axes>"
      ]
     },
     "metadata": {
      "needs_background": "light"
     },
     "output_type": "display_data"
    },
    {
     "data": {
      "text/plain": [
       "<tensorflow.python.training.tracking.util.CheckpointLoadStatus at 0x7fa77526b7d0>"
      ]
     },
     "execution_count": 5,
     "metadata": {},
     "output_type": "execute_result"
    }
   ],
   "source": [
    "TRAIN_MODEL = True   \n",
    "\n",
    "checkpoint_path = \"training_tcn/cp.ckpt\"\n",
    "checkpoint_dir = os.path.dirname(checkpoint_path)\n",
    "\n",
    "if TRAIN_MODEL:\n",
    "    cp_callback = tf.keras.callbacks.ModelCheckpoint(filepath=checkpoint_path,\n",
    "                                                     save_weights_only=True,\n",
    "                                                     verbose=1)\n",
    "    evaluation_interval = int(np.ceil(x_train.shape[0] / BATCH_SIZE))\n",
    "    history = model.fit(train_data, \n",
    "                        epochs=EPOCHS,\n",
    "                        steps_per_epoch=evaluation_interval,\n",
    "                        validation_data=val_data, validation_steps=evaluation_interval,\n",
    "                        callbacks=[cp_callback])\n",
    "    auxiliary_plots.plot_training_history(history, ['loss'])\n",
    "\n",
    "model.load_weights(checkpoint_path)"
   ]
  },
  {
   "cell_type": "markdown",
   "metadata": {
    "pycharm": {
     "name": "#%% md\n"
    }
   },
   "source": [
    "## Validation results"
   ]
  },
  {
   "cell_type": "code",
   "execution_count": 6,
   "metadata": {
    "pycharm": {
     "is_executing": false,
     "name": "#%%\n"
    }
   },
   "outputs": [
    {
     "name": "stdout",
     "output_type": "stream",
     "text": [
      "Validation scores {'mape': 0.009155464}\n"
     ]
    }
   ],
   "source": [
    "val_forecast = model.predict(x_val)\n",
    "val_forecast = normalization.denormalize(val_forecast, norm_params)\n",
    "y_val_denormalized = normalization.denormalize(y_val, norm_params)\n",
    "val_metrics = metrics.evaluate(y_val_denormalized, val_forecast, METRICS)\n",
    "print('Validation scores', val_metrics)"
   ]
  },
  {
   "cell_type": "markdown",
   "metadata": {
    "pycharm": {
     "name": "#%% md\n"
    }
   },
   "source": [
    "## Test results"
   ]
  },
  {
   "cell_type": "code",
   "execution_count": 7,
   "metadata": {
    "pycharm": {
     "is_executing": false,
     "name": "#%%\n"
    }
   },
   "outputs": [
    {
     "name": "stdout",
     "output_type": "stream",
     "text": [
      "Test scores {'mape': 0.009535441}\n"
     ]
    }
   ],
   "source": [
    "test_forecast = model.predict(test_data)\n",
    "test_forecast = normalization.denormalize(test_forecast, norm_params)\n",
    "y_test_denormalized = normalization.denormalize(y_test, norm_params)\n",
    "x_test_denormalized = normalization.denormalize(x_test, norm_params)\n",
    "test_metrics = metrics.evaluate(y_test_denormalized, test_forecast, METRICS)\n",
    "print('Test scores', test_metrics)"
   ]
  }
 ],
 "metadata": {
  "kernelspec": {
   "display_name": "Python 3",
   "language": "python",
   "name": "python3"
  },
  "language_info": {
   "codemirror_mode": {
    "name": "ipython",
    "version": 3
   },
   "file_extension": ".py",
   "mimetype": "text/x-python",
   "name": "python",
   "nbconvert_exporter": "python",
   "pygments_lexer": "ipython3",
   "version": "3.7.5"
  },
  "pycharm": {
   "stem_cell": {
    "cell_type": "raw",
    "metadata": {
     "collapsed": false
    },
    "source": []
   }
  }
 },
 "nbformat": 4,
 "nbformat_minor": 2
}
