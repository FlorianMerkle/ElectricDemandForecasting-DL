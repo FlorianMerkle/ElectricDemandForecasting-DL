{
 "cells": [
  {
   "cell_type": "code",
   "execution_count": 1,
   "metadata": {},
   "outputs": [],
   "source": [
    "import requests\n",
    "import pandas as pd\n",
    "import json\n",
    "from tqdm import tqdm"
   ]
  },
  {
   "cell_type": "code",
   "execution_count": null,
   "metadata": {},
   "outputs": [],
   "source": [
    "def get_req_url(year, month):\n",
    "    request_url = \"https://apidatos.ree.es/es/datos/demanda/demanda-tiempo-real?start_date={}-{}-02T00:00&end_date={}-{}-01T23:59&time_trunc=hour\".format(year, month, year if month<12 else year+1, month+1 if month<12 else 1)\n",
    "    return request_url"
   ]
  },
  {
   "cell_type": "code",
   "execution_count": null,
   "metadata": {},
   "outputs": [],
   "source": [
    "data = pd.DataFrame(columns=['value', 'percentage', 'datetime'])\n",
    "\n",
    "for y, m  in tqdm([(y,m) for y in range(2014,2020) for m in range(1,13)]) :\n",
    "    \n",
    "    url = get_req_url(y,m)\n",
    "    response = requests.get(url)\n",
    "    data = data.append(response.json()['included'][0]['attributes']['values'])\n",
    "\n",
    "    if y==2019 and m==10:\n",
    "        break\n",
    "data"
   ]
  },
  {
   "cell_type": "code",
   "execution_count": null,
   "metadata": {},
   "outputs": [],
   "source": [
    "data.to_csv('../data/hourly_20140102_20191101.csv', index=False)"
   ]
  },
  {
   "cell_type": "code",
   "execution_count": null,
   "metadata": {},
   "outputs": [],
   "source": [
    "data = pd.read_csv('../data/hourly_20140102_20191101.csv')\n",
    "data"
   ]
  },
  {
   "cell_type": "code",
   "execution_count": null,
   "metadata": {},
   "outputs": [],
   "source": [
    "data_train = data.iloc[0:int(data.shape[0]*0.8)]\n",
    "data_test = data.iloc[int(data.shape[0]*0.8):-1]"
   ]
  },
  {
   "cell_type": "code",
   "execution_count": null,
   "metadata": {},
   "outputs": [],
   "source": [
    "data_train.to_csv('../data/hourly_20140102_20191101_train.csv', index=False)\n",
    "data_test.to_csv('../data/hourly_20140102_20191101_test.csv', index=False)"
   ]
  },
  {
   "cell_type": "code",
   "execution_count": null,
   "metadata": {},
   "outputs": [],
   "source": [
    "data_test"
   ]
  }
 ],
 "metadata": {
  "kernelspec": {
   "display_name": "Python 3",
   "language": "python",
   "name": "python3"
  },
  "language_info": {
   "codemirror_mode": {
    "name": "ipython",
    "version": 3
   },
   "file_extension": ".py",
   "mimetype": "text/x-python",
   "name": "python",
   "nbconvert_exporter": "python",
   "pygments_lexer": "ipython3",
   "version": "3.6.8"
  }
 },
 "nbformat": 4,
 "nbformat_minor": 2
}
